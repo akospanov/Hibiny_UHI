{
 "cells": [
  {
   "cell_type": "markdown",
   "metadata": {},
   "source": [
    "This code is for quickly checking the data for Hibiny 2024 field campaign"
   ]
  },
  {
   "cell_type": "markdown",
   "metadata": {
    "tags": []
   },
   "source": [
    "Libraries: numpy, pandas, matplotlib, gzip"
   ]
  },
  {
   "cell_type": "code",
   "execution_count": null,
   "metadata": {
    "tags": []
   },
   "outputs": [],
   "source": [
    "!pip install pandas\n",
    "!pip install matplotlib\n",
    "!pip install xlrd"
   ]
  },
  {
   "cell_type": "code",
   "execution_count": null,
   "metadata": {
    "tags": []
   },
   "outputs": [],
   "source": [
    "import pandas as pd\n",
    "import numpy as np\n",
    "import matplotlib.pyplot as plt\n",
    "import matplotlib.dates as mdates\n",
    "import gzip"
   ]
  },
  {
   "cell_type": "markdown",
   "metadata": {},
   "source": [
    "Importing data from WRF"
   ]
  },
  {
   "cell_type": "code",
   "execution_count": null,
   "metadata": {
    "id": "koTJSMudhJE3",
    "tags": []
   },
   "outputs": [],
   "source": [
    "t2_urb = np.load(gzip.open('../data/t2_urb.npy.gz'))\n",
    "t2_nourb = np.load(gzip.open('../data/t2_nourb.npy.gz'))"
   ]
  },
  {
   "cell_type": "code",
   "execution_count": null,
   "metadata": {
    "tags": []
   },
   "outputs": [],
   "source": [
    "def parser(filepath):\n",
    "    df =  pd.read_csv(filepath, header = 0, dtype = 'str')\n",
    "    series = pd.Series((df.Value+'.'+df.Dec).astype('float').values, pd.to_datetime(df.Date, dayfirst=True)).resample('30min').mean().interpolate(method= 'linear')\n",
    "    return series[\"2024-01-29 00:00:00\":\"2024-01-31 21:00:00\"]\n",
    "\n",
    "meteo = pd.read_excel('../data/apatity_0128_0131.xls')\n",
    "met_t = pd.Series(meteo.Temp.values, pd.to_datetime(meteo.Time, dayfirst=True)).resample('180min').mean()[\"2024-01-29 00:00:00\":\"2024-01-31 21:00:00\"]    \n",
    "met_cld = pd.Series(meteo.NNh.values, pd.to_datetime(meteo.Time, dayfirst=True)).resample('180min').mean()[\"2024-01-29 00:00:00\":\"2024-01-31 21:00:00\"]    \n",
    "\n",
    "new = pd.read_csv('../data/corrected_sensors.csv', header = 0)\n",
    "\n",
    "dps = parser('../data/ПОСТ-ДПС.csv')\n",
    "\n",
    "knc = parser('../data/КНЦ.csv')\n",
    "\n",
    "anof = parser('../data/АНОФ.csv')\n",
    "\n",
    "aer = parser('../data/Аэропорт-зубы.csv')\n",
    "\n",
    "tik = parser('../data/ТИК-Губа.csv')"
   ]
  },
  {
   "cell_type": "markdown",
   "metadata": {
    "tags": []
   },
   "source": [
    "Ignore warnings here, it works so be it"
   ]
  },
  {
   "cell_type": "code",
   "execution_count": null,
   "metadata": {
    "tags": []
   },
   "outputs": [],
   "source": [
    "plt.figure(dpi = 256, figsize = (8,4))\n",
    "a0 = plt.axes()\n",
    "a0.plot(anof, linewidth = 1, color = 'steelblue')\n",
    "a0.plot(aer, linewidth = 1, color = 'darkorange')\n",
    "a0.plot(dps, linewidth = 1, color = 'green')\n",
    "a0.plot(tik, linewidth = 1, color = 'crimson')\n",
    "plt.plot(knc, linewidth = 1, color = 'k')\n",
    "plt.xticks(rotation = 30, ha = 'right', fontsize = 7)\n",
    "plt.ylabel('Температура, °C')\n",
    "plt.grid()\n",
    "plt.legend(['АНОФ', 'Аэропорт', 'ДПС', 'Тик-Губа', 'КНЦ'], fontsize = 7)\n",
    "plt.title('Температура на 2 метрах по данным iButton')\n",
    "a0.xaxis.set_major_formatter(mdates.DateFormatter('%d-%m-%Y %H:%M'))"
   ]
  }
 ],
 "metadata": {
  "colab": {
   "authorship_tag": "ABX9TyPnhrZo8c/aciYTKL7ShUJT",
   "include_colab_link": true,
   "provenance": []
  },
  "kernelspec": {
   "display_name": "Python 3 (ipykernel)",
   "language": "python",
   "name": "python3"
  },
  "language_info": {
   "codemirror_mode": {
    "name": "ipython",
    "version": 3
   },
   "file_extension": ".py",
   "mimetype": "text/x-python",
   "name": "python",
   "nbconvert_exporter": "python",
   "pygments_lexer": "ipython3",
   "version": "3.10.12"
  }
 },
 "nbformat": 4,
 "nbformat_minor": 4
}
